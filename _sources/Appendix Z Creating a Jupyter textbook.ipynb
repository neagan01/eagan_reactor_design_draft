{
 "cells": [
  {
   "cell_type": "markdown",
   "metadata": {},
   "source": [
    "# Appendix Z: Creating your own Jupyter Book textbook\n",
    "\n",
    "Here the procedure used to develop this textbook (created 2022-2023) is described. This was created on a Windows 10 machine. This is by no means the best way to do this, it is simply the way it was done here.\n",
    "\n",
    "**Creating the book**\n",
    "1. Install Anaconda from https://www.anaconda.com/\n",
    "2. Create new Python 3.7 environment was created in Anaconda by going to the Environments tab and selecting \"create\". Call it \"py37\". This may help with Windows compatibility issues.\n",
    "3. Run Anaconda Prompt (found in Programs/Anaconda3 (64-bit)/)\n",
    "4. Load environment with \"activate py37\"\n",
    "5. Install jupyter books with the command \"conda install -c conda-forge jupyter-book\". It may take a bit to successfully install.\n",
    "6. Navigate to the folder where you will create your book--I did this in my GitHub folder and will refer to it as such throughout.\n",
    "7. Create a template book with \"jupyter-book create bookname\"\n",
    "8. Build the book with command \"jupyter-book build bookname\"\n",
    "9. With an appropriate editor (e.g., Notebook++), modify your title and other details in the \"_config.yml\" file.\n",
    "10. Move your book contents into the \"bookname\" folder.\n",
    "11. Define the organization of your book by editing the \"_toc.yml\" file\n",
    "12. Open book by navigating to \"bookname/_build/html\" and opening an html file to jump to that chapter of the book.\n",
    "\n",
    "**Editing the book**\n",
    "After the book has been created, the content can be updated at any time but will not be instantly reflected in the book's html pages. **To update the book,** simply build it again by stepping out of the folder and using the command \"jupyter-book build bookname.\"\n",
    "\n",
    "**Making the book available online through GitHub**\n",
    "1. Create a GitHub account if you have not already. You will create a username with it.\n",
    "2. Create a new repository. It must be public, and you should have it generate a README file. Name it whatever you like; for this case, we will call it \"book_draft\"\n",
    "3. In Anaconda, install \"git\" into your 3.7 environment.\n",
    "4. In Anaconda prompt (3.7 environment), install the GitHub pages import tool with command \"pip install ghp-import\"\n",
    "5. In Anaconda prompt (in 3.7), navigate to your GitHub folder (or whichever you prefer) and clone your repository. Do this by first finding the url of your repository which will be something like https://github.com/username/book_draft. In the prompt enter the command \"git clone https://github.com/username/book_draft\" or whatever URL is appropriate.\n",
    "6. Copy the contents of the book you previously created into this folder. Assuming that you are in the GitHub folder and that both \"bookname\" and \"book_draft\" are as well, use the command \"cp -r bookname/* book_draft/\" to recursively (-r) copy (cp) all contents (star) in the bookname folder (bookname/) to your new repository (book_draft/).\n",
    "7. Enter the book_draft folder. In it you should see a \"_build\" folder which holds your html files.\n",
    "8. Enter the command \"ghp-import -n -p -f _build/html\" to create your book.\n",
    "9. To find the url for your new book, first go to your repository online. Then click \"settings\" along the top bar under your repository location, then click \"pages\" along the left toolbar, and there you will see the url. Anyone can access your book at this link.\n",
    "\n",
    "**Updating your book**\n",
    "You can upload a new version of your book at any time by rebuilding it as noted above and then re-importing it by again entering the main folder and using the command \"ghp-import -n -p -f _build/html\""
   ]
  },
  {
   "cell_type": "markdown",
   "metadata": {},
   "source": [
    "## Additional resources for building Jupyter notebooks and textbooks for chemical engineering courses\n",
    "\n",
    "1. Jupyter book current documentation: https://jupyterbook.org/en/stable/intro.html\n",
    "2. Dominguez et al., 2021, Teaching chemical engineering using Jupyter notebook: Problem generators and lecturing tools. https://doi.org/10.1016/j.ece.2021.06.004\n",
    "3. A useful video for generating a Jupyter textbook: https://www.youtube.com/watch?v=lZ2FHTkyaMU&list=PLqHWxCzYzDAZOZJ90O-biMvc54qoCTtOu&index=8\n"
   ]
  },
  {
   "cell_type": "code",
   "execution_count": null,
   "metadata": {},
   "outputs": [],
   "source": []
  }
 ],
 "metadata": {
  "kernelspec": {
   "display_name": "Python 3",
   "language": "python",
   "name": "python3"
  },
  "language_info": {
   "codemirror_mode": {
    "name": "ipython",
    "version": 3
   },
   "file_extension": ".py",
   "mimetype": "text/x-python",
   "name": "python",
   "nbconvert_exporter": "python",
   "pygments_lexer": "ipython3",
   "version": "3.7.6"
  },
  "varInspector": {
   "cols": {
    "lenName": 16,
    "lenType": 16,
    "lenVar": 40
   },
   "kernels_config": {
    "python": {
     "delete_cmd_postfix": "",
     "delete_cmd_prefix": "del ",
     "library": "var_list.py",
     "varRefreshCmd": "print(var_dic_list())"
    },
    "r": {
     "delete_cmd_postfix": ") ",
     "delete_cmd_prefix": "rm(",
     "library": "var_list.r",
     "varRefreshCmd": "cat(var_dic_list()) "
    }
   },
   "types_to_exclude": [
    "module",
    "function",
    "builtin_function_or_method",
    "instance",
    "_Feature"
   ],
   "window_display": false
  }
 },
 "nbformat": 4,
 "nbformat_minor": 4
}
